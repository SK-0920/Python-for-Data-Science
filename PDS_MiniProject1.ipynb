{
 "cells": [
  {
   "cell_type": "markdown",
   "id": "ce1041fb",
   "metadata": {
    "id": "ce1041fb"
   },
   "source": [
    "# PDS MINI PROJECT - 1 "
   ]
  },
  {
   "cell_type": "markdown",
   "id": "84a0f855",
   "metadata": {
    "id": "84a0f855"
   },
   "source": [
    "#### 1. Display the following pattern a using single print() function. ( 2marks)\n",
    "\n",
    "\n",
    "\n",
    "                            *\n",
    "                            **\n",
    "                            ***\n",
    "                            ****"
   ]
  },
  {
   "cell_type": "code",
   "execution_count": 2,
   "id": "d4f8e216",
   "metadata": {
    "id": "d4f8e216"
   },
   "outputs": [
    {
     "name": "stdout",
     "output_type": "stream",
     "text": [
      "*\n",
      "**\n",
      "***\n",
      "****\n"
     ]
    }
   ],
   "source": [
    "for i in range(1,5):\n",
    "    print('*' *  i)"
   ]
  },
  {
   "cell_type": "markdown",
   "id": "f9597d3b",
   "metadata": {
    "id": "f9597d3b"
   },
   "source": [
    "#### 2. Write a program that takes two dictionaries and concatenates them into one dictionary  (2 marks)\n",
    "\n",
    "Use the below dictionaries:\n",
    "\n",
    "    dictionary_1 = {'A':1, 'B':2}\n",
    "\n",
    "    dictionary_2 = {'C':3}"
   ]
  },
  {
   "cell_type": "code",
   "execution_count": 14,
   "id": "1f380c68",
   "metadata": {
    "id": "1f380c68"
   },
   "outputs": [
    {
     "name": "stdout",
     "output_type": "stream",
     "text": [
      "{'A': 1, 'B': 2, 'C': 3}\n"
     ]
    }
   ],
   "source": [
    "dictionary_1 = {'A':1, 'B':2}\n",
    "\n",
    "dictionary_2 = {'C':3}\n",
    "\n",
    "\"\"\"concated_dictionary = dictionary_1.copy()\n",
    "concated_dictionary.update(dictionary_2)\"\"\"\n",
    "\n",
    "concated_dictionary = dictionary_1 | dictionary_2\n",
    "\n",
    "print(concated_dictionary)"
   ]
  },
  {
   "cell_type": "markdown",
   "id": "ba76ec6b",
   "metadata": {
    "id": "ba76ec6b"
   },
   "source": [
    "#### 3. Write a program to retrieve the capital of 'Germany' from a given dictionary  (2marks)\n",
    "Use the dictionary given below:\n",
    "\n",
    "europe = { 'Spain': { 'Capital':'Madrid', 'Population':4.77 }, 'France': { 'Capital':'Paris', 'Population':6.7 }, 'Germany': { 'Capital':'Berlin', 'Population':8.28 }, 'Norway': { 'Capital':'Oslo', 'Population':0.533 } }"
   ]
  },
  {
   "cell_type": "code",
   "execution_count": 16,
   "id": "725eb987",
   "metadata": {
    "id": "725eb987"
   },
   "outputs": [
    {
     "name": "stdout",
     "output_type": "stream",
     "text": [
      "Berlin\n"
     ]
    }
   ],
   "source": [
    "europe = { 'Spain': { 'Capital':'Madrid', 'Population':4.77 }, 'France': { 'Capital':'Paris', 'Population':6.7 }, 'Germany': { 'Capital':'Berlin', 'Population':8.28 }, 'Norway': { 'Capital':'Oslo', 'Population':0.533 } }\n",
    "\n",
    "print(europe['Germany']['Capital'])"
   ]
  },
  {
   "cell_type": "markdown",
   "id": "cd10dde2",
   "metadata": {
    "id": "cd10dde2"
   },
   "source": [
    "#### 4. Consider the given two tuples. Divide corresponding elements of two tuples and print the result as tuple (use zip())(2marks)\n",
    "\n",
    "The original tuple 1 : (10, 4, 6, 9)\n",
    "\n",
    "The original tuple 2 : (5, 2, 3, 3)\n",
    "\n",
    "Output: (2, 2, 2, 3)"
   ]
  },
  {
   "cell_type": "code",
   "execution_count": 20,
   "id": "ec66737e",
   "metadata": {
    "id": "ec66737e",
    "scrolled": true
   },
   "outputs": [
    {
     "name": "stdout",
     "output_type": "stream",
     "text": [
      "Output:  (2, 2, 2, 3)\n"
     ]
    }
   ],
   "source": [
    "tuple_1 = (10, 4, 6, 9)\n",
    "tuple_2 = (5, 2, 3, 3)\n",
    "\n",
    "result = tuple(a // b for a, b in zip(tuple_1, tuple_2))\n",
    "\n",
    "print('Output: ', result)"
   ]
  },
  {
   "cell_type": "markdown",
   "id": "082f19b0",
   "metadata": {
    "id": "082f19b0"
   },
   "source": [
    "#### 5.Write a program that takes input from the user and checks whether two strings are anagrams of each other.(3 marks)\n",
    "Hint: An anagram of a string is another string that contains same characters, only the order of characters can be different."
   ]
  },
  {
   "cell_type": "code",
   "execution_count": 24,
   "id": "985b694e",
   "metadata": {
    "id": "985b694e"
   },
   "outputs": [
    {
     "name": "stdin",
     "output_type": "stream",
     "text": [
      "Enter your str1:  Hello\n",
      "Enter your str2:  World\n"
     ]
    },
    {
     "name": "stdout",
     "output_type": "stream",
     "text": [
      "'Hello' and 'World' are not anagrams\n"
     ]
    }
   ],
   "source": [
    "def anagram_check(str1, str2):\n",
    "    str1 = str1.replace(\" \", \"\").lower() #removes whitespaces, convert all letters to lower case\n",
    "    str2 = str2.replace(\" \", \"\").lower()\n",
    "\n",
    "    return sorted(str1) == sorted(str2) #checks if str's are equal\n",
    "\n",
    "string_1 = input(\"Enter your str1: \")\n",
    "string_2 = input(\"Enter your str2: \")\n",
    "\n",
    "if anagram_check(string_1, string_2):\n",
    "    print(f\"'{string_1}' and '{string_2}' are anagrams\")\n",
    "else:\n",
    "    print(f\"'{string_1}' and '{string_2}' are not anagrams\")"
   ]
  },
  {
   "cell_type": "markdown",
   "id": "f7110a8d",
   "metadata": {
    "id": "f7110a8d"
   },
   "source": [
    "#### 6. Write a program to transpose a matrix using list comprehension ( 2marks)\n",
    "\n",
    "    matrix=[[1,2],[3,4],[5,6],[7,8]]\n",
    "\n",
    "    Output: [[1, 3, 5, 7], [2, 4, 6, 8]]"
   ]
  },
  {
   "cell_type": "code",
   "execution_count": 4,
   "id": "66f1e01d",
   "metadata": {
    "id": "66f1e01d"
   },
   "outputs": [
    {
     "name": "stdout",
     "output_type": "stream",
     "text": [
      "Oringinal matrix:  [[1, 2], [3, 4], [5, 6], [7, 8]]\n",
      "Tranposed matrix:  [[1, 3, 5, 7], [2, 4, 6, 8]]\n"
     ]
    }
   ],
   "source": [
    "matrix=[[1,2],[3,4],[5,6],[7,8]]\n",
    "\n",
    "#transpose\n",
    "transposed = [[row[i] for row in matrix] for i in range(len(matrix[0]))]\n",
    "\n",
    "print('Oringinal matrix: ', matrix)\n",
    "print('Tranposed matrix: ', transposed)"
   ]
  },
  {
   "cell_type": "markdown",
   "id": "af1902b9",
   "metadata": {
    "id": "af1902b9"
   },
   "source": [
    "#### 7.Write a program to add the cubes of first 5 positive integers using while loop. (2 marks)"
   ]
  },
  {
   "cell_type": "code",
   "execution_count": 12,
   "id": "15d19ded",
   "metadata": {
    "id": "15d19ded"
   },
   "outputs": [
    {
     "name": "stdout",
     "output_type": "stream",
     "text": [
      "The cubes of first '5' positive integers are: '225'\n"
     ]
    }
   ],
   "source": [
    "sum_of_cubes = 0\n",
    "current_num = 1\n",
    "n = 5\n",
    "\n",
    "while current_num <= n:\n",
    "    sum_of_cubes += current_num ** 3\n",
    "    current_num += 1\n",
    "\n",
    "print(f\"The cubes of first '{n}' positive integers are: '{sum_of_cubes}'\")\n",
    "    "
   ]
  },
  {
   "cell_type": "markdown",
   "id": "b889d264",
   "metadata": {
    "id": "b889d264"
   },
   "source": [
    "#### 8.Given a list of words, define a function to find the words from the list whose second character is in uppercase.  (2 marks)\n",
    "\n",
    "    ls = ['hello', 'Dear', 'hOw', 'ARe', 'You']\n",
    "\n",
    "    Output: ['hOw', 'ARe']"
   ]
  },
  {
   "cell_type": "code",
   "execution_count": 24,
   "id": "c874a9b5",
   "metadata": {
    "id": "c874a9b5"
   },
   "outputs": [
    {
     "name": "stdout",
     "output_type": "stream",
     "text": [
      "['hOw', 'ARe']\n"
     ]
    }
   ],
   "source": [
    "ls = ['hello', 'Dear', 'hOw', 'ARe', 'You']\n",
    "\n",
    "def find_upper(words):\n",
    "    result = []\n",
    "    for word in words:\n",
    "        if len(word) > 1 and word[1].isupper():\n",
    "            result.append(word)\n",
    "    return result\n",
    "\n",
    "\n",
    "print(find_upper(ls))"
   ]
  },
  {
   "cell_type": "markdown",
   "id": "85ab4e25",
   "metadata": {
    "id": "85ab4e25"
   },
   "source": [
    "#### 9.A list containing multiple lists is given. Convert each inner list into sets and find intersection of all the sets (use reduce function)  (3 marks)\n",
    "    \n",
    "    given_sets = [[1, 2, 3, 4, 8], [2, 3, 8, 5, 6], [8, 4, 5, 3, 7], [6, 9, 8, 3], [9, 12, 3, 7, 6, 8, 4, 6, 21, 1, 6]]\n",
    "    \n",
    "    Output: {8, 3}"
   ]
  },
  {
   "cell_type": "code",
   "execution_count": 33,
   "id": "bae9c66e",
   "metadata": {
    "id": "bae9c66e"
   },
   "outputs": [
    {
     "name": "stdout",
     "output_type": "stream",
     "text": [
      "Intersection of all sets:  {8, 3}\n"
     ]
    }
   ],
   "source": [
    "from functools import reduce\n",
    "\n",
    "given_sets = [[1, 2, 3, 4, 8], [2, 3, 8, 5, 6], [8, 4, 5, 3, 7], [6, 9, 8, 3], [9, 12, 3, 7, 6, 8, 4, 6, 21, 1, 6]]\n",
    "\n",
    "set_list = [set(inner_list) for inner_list in given_sets] #convert each inner list into set\n",
    "\n",
    "common_elements = reduce(lambda x, y : x & y, set_list)\n",
    "\n",
    "print(\"Intersection of all sets: \", common_elements)\n"
   ]
  },
  {
   "cell_type": "code",
   "execution_count": null,
   "id": "82198a51-1d0d-430c-bbbd-9bc7c9be7c91",
   "metadata": {},
   "outputs": [],
   "source": [
    "#end--"
   ]
  }
 ],
 "metadata": {
  "colab": {
   "provenance": []
  },
  "kernelspec": {
   "display_name": "Python [conda env:base] *",
   "language": "python",
   "name": "conda-base-py"
  },
  "language_info": {
   "codemirror_mode": {
    "name": "ipython",
    "version": 3
   },
   "file_extension": ".py",
   "mimetype": "text/x-python",
   "name": "python",
   "nbconvert_exporter": "python",
   "pygments_lexer": "ipython3",
   "version": "3.12.7"
  }
 },
 "nbformat": 4,
 "nbformat_minor": 5
}
